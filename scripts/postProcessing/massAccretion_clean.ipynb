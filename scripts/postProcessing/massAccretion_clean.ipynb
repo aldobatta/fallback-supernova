{
 "cells": [
  {
   "cell_type": "code",
   "execution_count": 1,
   "metadata": {},
   "outputs": [],
   "source": [
    "%matplotlib inline\n",
    "\n",
    "import matplotlib.pyplot as plt\n",
    "import numpy as np\n",
    "import scipy.integrate as integ\n",
    "from astropy.io import ascii\n",
    "from scipy import interpolate\n",
    "import scipy.stats as stats\n",
    "from astropy.table import Table, Column\n",
    "import readsnap as rs\n",
    "\n",
    "\n",
    "plt.rcParams['figure.figsize'] = (8,5)\n",
    "plt.rcParams['legend.frameon'] = False\n",
    "plt.rcParams['legend.fontsize'] = 15\n",
    "plt.rcParams['legend.borderpad'] = 0.1\n",
    "plt.rcParams['legend.labelspacing'] = 0.1\n",
    "plt.rcParams['legend.handletextpad'] = 0.1\n",
    "plt.rcParams['font.family'] = 'stixgeneral'\n",
    "plt.rcParams['font.size'] = 15\n",
    "plt.rcParams['lines.linewidth'] = 2\n",
    "plt.rcParams['axes.labelsize'] = 15\n",
    "\n",
    "\n",
    "# Constants in CGS\n",
    "\n",
    "G = 6.6726e-08\n",
    "Ro = 6.96e10\n",
    "Mo = 1.99e33\n",
    "c = 2.9979e+10\n",
    "day = 60*60*24\n",
    "\n",
    "DistUnit = Ro\n",
    "MassUnit = Mo\n",
    "TimeUnit = np.sqrt(DistUnit**3/(G*MassUnit))\n",
    "VelUnit = DistUnit/TimeUnit\n",
    "AngMomUnit = DistUnit*VelUnit*MassUnit\n",
    "\n",
    "SpinUnit = AngMomUnit*c/(G*Mo**2)\n",
    "\n",
    "DensityUnit = MassUnit/(DistUnit**3)\n",
    "\n",
    "\n",
    "Tday = TimeUnit/(60*60*24)\n",
    "\n",
    "#=====================================================\n",
    "# Finds index of the element in an array \n",
    "# with the closest value to \"value\"\n",
    "def find_nearest(array,value):\n",
    "        idx = (np.abs(array-value)).argmin()\n",
    "#     return array[idx]\n",
    "        return idx"
   ]
  },
  {
   "cell_type": "code",
   "execution_count": 2,
   "metadata": {},
   "outputs": [
    {
     "name": "stdout",
     "output_type": "stream",
     "text": [
      "(1593.4548986025416, ' s')\n",
      "5.90235541827\n"
     ]
    }
   ],
   "source": [
    "print(TimeUnit,\" s\")\n",
    "print(DensityUnit)"
   ]
  },
  {
   "cell_type": "markdown",
   "metadata": {},
   "source": [
    "## data from snapshots and dynamics file"
   ]
  },
  {
   "cell_type": "code",
   "execution_count": 3,
   "metadata": {},
   "outputs": [],
   "source": [
    "def snapdata(path,snap):\n",
    "    data = rs.readsnap(path,snap,0)\n",
    "    dataBH = rs.readsnap(path,snap,5,skip_bh = 1)\n",
    "    dataSTAR = rs.readsnap(path,snap,4)\n",
    "    \n",
    "    return data,dataBH,dataSTAR\n",
    "\n",
    "def Get_dynamics(filename):\n",
    "\n",
    "    \"\"\"Getting the data from the dynmaics file\"\"\"\n",
    "    \n",
    "    dyn = np.genfromtxt(filename)    \n",
    "    \n",
    "    colnames = ('t','Macc_bh','Engy_bh','PaccX_bh','PaccY_bh','PaccZ_bh','LaccX_bh','LaccY_bh' \\\n",
    "                ,'LaccZ_bh','M_gas','X_gas','Y_gas','Z_gas','PX_gas','PY_gas','PZ_gas' \\\n",
    "                ,'LX_gas','LY_gas','LZ_gas', 'M_star','X_star','Y_star','Z_star','PX_star' \\\n",
    "                ,'PY_star','PZ_star','LX_star','LY_star','LZ_star','M_bh','X_bh','Y_bh' \\\n",
    "                ,'Z_bh','PX_bh','PY_bh','PZ_bh','LX_bh','LY_bh','LZ_bh','Macc_star', 'Engy_star' \\\n",
    "                ,'PaccX_star','PaccY_star','PaccZ_star','LaccX_star','LaccY_star' \\\n",
    "                ,'LaccZ_star','LaccX_starCM','LaccY_starCM','LaccZ_starCM','LaccX_bhCM' \\\n",
    "                ,'LaccY_bhCM','LaccZ_bhCM','rp')\n",
    "    \n",
    "    print np.shape(dyn), len(colnames)\n",
    "    dat = Table(dyn,names=colnames)\n",
    "    \n",
    "\n",
    "    return dat"
   ]
  },
  {
   "cell_type": "code",
   "execution_count": 4,
   "metadata": {},
   "outputs": [
    {
     "name": "stdout",
     "output_type": "stream",
     "text": [
      "(636, 54) 54\n"
     ]
    }
   ],
   "source": [
    "testReadFile1 = \"/Users/alejandro/Dropbox/Alejandro_CE_SN/Data/GADGET/NS_MESA10_2021/0309_4/dynamics.txt\"\n",
    "dataTable1 = Get_dynamics(testReadFile1)"
   ]
  },
  {
   "cell_type": "code",
   "execution_count": 5,
   "metadata": {},
   "outputs": [
    {
     "name": "stdout",
     "output_type": "stream",
     "text": [
      " Macc_bh  \n",
      "----------\n",
      "       0.0\n",
      "0.00487687\n",
      "0.00583214\n",
      "0.00798062\n",
      " 0.0134423\n",
      " 0.0193766\n",
      " 0.0273392\n",
      " 0.0383986\n",
      " 0.0540028\n",
      " 0.0732113\n",
      "       ...\n",
      "  0.803228\n",
      "  0.803237\n",
      "  0.803256\n",
      "   0.80327\n",
      "  0.803288\n",
      "  0.803306\n",
      "  0.803325\n",
      "  0.803343\n",
      "  0.803355\n",
      "  0.803379\n",
      "  0.803391\n",
      "Length = 636 rows\n",
      "       Macc_bh        \n",
      "----------------------\n",
      "            0.00487687\n",
      " 0.0009552700000000003\n",
      " 0.0021484800000000004\n",
      "            0.00546168\n",
      "             0.0059343\n",
      "             0.0079626\n",
      "  0.011059399999999997\n",
      "  0.015604199999999999\n",
      "   0.01920850000000001\n",
      "  0.021591299999999994\n",
      "                   ...\n",
      "2.6999999999999247e-05\n",
      " 8.999999999925734e-06\n",
      "1.8999999999991246e-05\n",
      "1.4000000000069512e-05\n",
      " 1.799999999996249e-05\n",
      " 1.799999999996249e-05\n",
      "1.8999999999991246e-05\n",
      "1.8000000000073513e-05\n",
      "1.2000000000012001e-05\n",
      " 2.399999999991298e-05\n",
      "1.2000000000012001e-05\n",
      "Length = 635 rows\n"
     ]
    }
   ],
   "source": [
    "print((dataTable1['Macc_bh']))\n",
    "print(np.diff(dataTable1['Macc_bh']))"
   ]
  },
  {
   "cell_type": "code",
   "execution_count": 6,
   "metadata": {},
   "outputs": [],
   "source": [
    "saveToCVS = False\n",
    "if saveToCVS:\n",
    "    Mdot_exp_1 = np.gradient(dataTable1['Macc_bh'])/(np.gradient(dataTable1['t'])*TimeUnit)\n",
    "    np.savetxt(\"testData.csv\", np.asarray([ dataTable1['t']*TimeUnit,Mdot_exp_1]), delimiter=\",\")"
   ]
  },
  {
   "cell_type": "code",
   "execution_count": 7,
   "metadata": {},
   "outputs": [
    {
     "data": {
      "text/plain": [
       "<matplotlib.legend.Legend at 0x7feb30821ed0>"
      ]
     },
     "execution_count": 7,
     "metadata": {},
     "output_type": "execute_result"
    },
    {
     "data": {
      "image/png": "[encoded data removed]",
      "text/plain": [
       "<Figure size 432x288 with 1 Axes>"
      ]
     },
     "metadata": {
      "needs_background": "light"
     },
     "output_type": "display_data"
    }
   ],
   "source": [
    "Mdot_exp_1 = np.gradient(dataTable1['Macc_bh'])/(np.gradient(dataTable1['t'])*TimeUnit)\n",
    "\n",
    "plt.plot(dataTable1['t']*TimeUnit,Mdot_exp_1,label='$test$')\n",
    "\n",
    "minValY = 1e-5\n",
    "maxValY = 1e-1\n",
    "plt.vlines(ymin=minValY,ymax=maxValY, x=1.0, color='k')\n",
    "plt.vlines(ymin=minValY,ymax=maxValY, x=10.0, color='k')\n",
    "plt.vlines(ymin=minValY,ymax=maxValY, x=100.0, color='k')\n",
    "plt.vlines(ymin=minValY,ymax=maxValY, x=1000.0, color='k')\n",
    "\n",
    "plt.legend(loc='right')\n",
    "plt.ylabel('$\\dot{M}\\ [M_{\\odot}\\ s^{-1}]$')\n",
    "plt.xlabel('Time [s]')\n",
    "plt.yscale('log')\n",
    "plt.xscale('log')\n",
    "plt.xlim([1, 2000])\n",
    "plt.ylim([minValY, maxValY])\n",
    "plt.legend(loc='center left', bbox_to_anchor=(1, 0.5))"
   ]
  },
  {
   "cell_type": "code",
   "execution_count": 8,
   "metadata": {
    "scrolled": true
   },
   "outputs": [
    {
     "data": {
      "text/plain": [
       "<matplotlib.legend.Legend at 0x7feb106b6a50>"
      ]
     },
     "execution_count": 8,
     "metadata": {},
     "output_type": "execute_result"
    },
    {
     "data": {
      "image/png": "[encoded data removed]",
      "text/plain": [
       "<Figure size 432x288 with 1 Axes>"
      ]
     },
     "metadata": {
      "needs_background": "light"
     },
     "output_type": "display_data"
    }
   ],
   "source": [
    "plt.plot(dataTable1['t']*TimeUnit,dataTable1['M_bh'],label='CO')\n",
    "plt.plot(dataTable1['t']*TimeUnit,dataTable1['M_star'],label='NS')\n",
    "\n",
    "plt.legend(loc='right')\n",
    "plt.ylabel('Mass [Msol]')\n",
    "plt.xlabel('Time [s]')\n",
    "plt.legend()"
   ]
  },
  {
   "cell_type": "code",
   "execution_count": 9,
   "metadata": {},
   "outputs": [
    {
     "name": "stdout",
     "output_type": "stream",
     "text": [
      "('The mass of the newly born compact object, in solar masses, is:', 2.13478)\n",
      "('The mass of the neutron star companion, in solar masses, is:', 1.30124)\n"
     ]
    }
   ],
   "source": [
    "print(\"The mass of the newly born compact object, in solar masses, is:\",dataTable1['M_bh'][-1])\n",
    "print(\"The mass of the neutron star companion, in solar masses, is:\",dataTable1['M_star'][-1])"
   ]
  }
 ],
 "metadata": {
  "anaconda-cloud": {},
  "kernelspec": {
   "display_name": "Python 2",
   "language": "python",
   "name": "python2"
  },
  "language_info": {
   "codemirror_mode": {
    "name": "ipython",
    "version": 2
   },
   "file_extension": ".py",
   "mimetype": "text/x-python",
   "name": "python",
   "nbconvert_exporter": "python",
   "pygments_lexer": "ipython2",
   "version": "2.7.18"
  }
 },
 "nbformat": 4,
 "nbformat_minor": 1
}
